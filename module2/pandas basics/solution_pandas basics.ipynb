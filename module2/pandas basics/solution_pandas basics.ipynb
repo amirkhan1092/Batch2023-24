{
 "cells": [
  {
   "cell_type": "code",
   "execution_count": 1,
   "metadata": {},
   "outputs": [
    {
     "name": "stdout",
     "output_type": "stream",
     "text": [
      "a) Number of unique cities: 4\n",
      "b) Average age: 29.5\n",
      "c) Number of males and females:\n",
      " Gender\n",
      "Female    2\n",
      "Male      2\n",
      "Name: count, dtype: int64\n",
      "d) Oldest person: Dana\n",
      "e) City with the highest number of individuals: New York\n"
     ]
    }
   ],
   "source": [
    "# Question1 Eployee Data \n",
    "import pandas as pd\n",
    "\n",
    "# Create a DataFrame from the given data\n",
    "data = {\n",
    "    'ID': [1, 2, 3, 4],\n",
    "    'Name': ['Alice', 'Bob', 'Charlie', 'Dana'],\n",
    "    'Age': [25, 30, 28, 35],\n",
    "    'Gender': ['Female', 'Male', 'Male', 'Female'],\n",
    "    'City': ['New York', 'London', 'Paris', 'Berlin']\n",
    "}\n",
    "\n",
    "df = pd.DataFrame(data)\n",
    "\n",
    "# a) Number of unique cities\n",
    "unique_cities = df['City'].nunique()\n",
    "\n",
    "# b) Average age\n",
    "average_age = df['Age'].mean()\n",
    "\n",
    "# c) Number of males and females\n",
    "gender_counts = df['Gender'].value_counts()\n",
    "\n",
    "# d) Oldest person\n",
    "oldest_person = df[df['Age'] == df['Age'].max()]['Name'].values[0]\n",
    "\n",
    "# e) City with the highest number of individuals\n",
    "city_counts = df['City'].value_counts()\n",
    "city_highest_individuals = city_counts.idxmax()\n",
    "\n",
    "print(\"a) Number of unique cities:\", unique_cities)\n",
    "print(\"b) Average age:\", average_age)\n",
    "print(\"c) Number of males and females:\\n\", gender_counts)\n",
    "print(\"d) Oldest person:\", oldest_person)\n",
    "print(\"e) City with the highest number of individuals:\", city_highest_individuals)\n"
   ]
  },
  {
   "cell_type": "code",
   "execution_count": null,
   "metadata": {},
   "outputs": [],
   "source": [
    "# question 2 :- student scores\n",
    "import pandas as pd\n",
    "\n",
    "# Creating DataFrame\n",
    "data = {\n",
    "    'ID': [1, 2, 3, 4],\n",
    "    'Name': ['Alice', 'Bob', 'Charlie', 'Dana'],\n",
    "    'Math_Score': [85, 75, 90, 80],\n",
    "    'Science_Score': [90, 85, 80, 95]\n",
    "}\n",
    "\n",
    "df = pd.DataFrame(data)\n",
    "\n",
    "# a) Calculate the average math score\n",
    "average_math_score = df['Math_Score'].mean()\n",
    "print(\"Average Math Score:\", average_math_score)\n",
    "\n",
    "# b) Find the highest science score\n",
    "highest_science_score = df['Science_Score'].max()\n",
    "print(\"Highest Science Score:\", highest_science_score)\n",
    "\n",
    "# c) Calculate the total score for each student\n",
    "df['Total_Score'] = df['Math_Score'] + df['Science_Score']\n",
    "print(\"Total Scores:\")\n",
    "print(df[['Name', 'Total_Score']])\n",
    "\n",
    "# d) Find the student with the highest total score\n",
    "highest_total_score_student = df.loc[df['Total_Score'].idxmax(), 'Name']\n",
    "print(\"Student with the highest total score:\", highest_total_score_student)\n",
    "\n",
    "# e) Calculate the difference between the average math score and the average science score\n",
    "average_science_score = df['Science_Score'].mean()\n",
    "difference = average_math_score - average_science_score\n",
    "print(\"Difference between average math score and average science score:\", difference)"
   ]
  },
  {
   "cell_type": "code",
   "execution_count": 1,
   "metadata": {},
   "outputs": [
    {
     "name": "stdout",
     "output_type": "stream",
     "text": [
      "a) Number of unique cities: 4\n",
      "b) Average age of individuals: 29.5\n",
      "c) Number of males and females:\n",
      "Gender\n",
      "Female    2\n",
      "Male      2\n",
      "Name: count, dtype: int64\n",
      "d) The oldest person in the table is: Dana\n",
      "e) City with the highest number of individuals: New York\n"
     ]
    }
   ],
   "source": [
    "# Problem 1 :-  Employee Data\n",
    "import pandas as pd\n",
    "data = {\n",
    "    'ID': [1, 2, 3, 4],\n",
    "    'Name': ['Alice', 'Bob', 'Charlie', 'Dana'],\n",
    "    'Age': [25, 30, 28, 35],\n",
    "    'Gender': ['Female', 'Male', 'Male', 'Female'],\n",
    "    'City': ['New York', 'London', 'Paris', 'Berlin']}\n",
    "df = pd.DataFrame(data)\n",
    "\n",
    "unique_cities = df['City'].nunique()\n",
    "print(\"a) Number of unique cities:\", unique_cities)\n",
    "average_age = df['Age'].mean()\n",
    "print(\"b) Average age of individuals:\", average_age)\n",
    "gender_count = df['Gender'].value_counts()\n",
    "print(\"c) Number of males and females:\")\n",
    "print(gender_count)\n",
    "oldest_person = df[df['Age'] == df['Age'].max()]['Name'].iloc[0]\n",
    "print(\"d) The oldest person in the table is:\", oldest_person)\n",
    "city_with_highest_count = df['City'].value_counts().idxmax()\n",
    "print(\"e) City with the highest number of individuals:\", city_with_highest_count)"
   ]
  }
 ],
 "metadata": {
  "kernelspec": {
   "display_name": "base",
   "language": "python",
   "name": "python3"
  },
  "language_info": {
   "codemirror_mode": {
    "name": "ipython",
    "version": 3
   },
   "file_extension": ".py",
   "mimetype": "text/x-python",
   "name": "python",
   "nbconvert_exporter": "python",
   "pygments_lexer": "ipython3",
   "version": "3.12.2"
  }
 },
 "nbformat": 4,
 "nbformat_minor": 2
}
